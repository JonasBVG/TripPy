{
 "cells": [
  {
   "cell_type": "code",
   "execution_count": 8,
   "metadata": {},
   "outputs": [],
   "source": [
    "import trippy as tpy\n",
    "import pandas as pd\n",
    "import geopandas as gpd"
   ]
  },
  {
   "cell_type": "code",
   "execution_count": 28,
   "metadata": {},
   "outputs": [
    {
     "data": {
      "text/plain": [
       "<module 'trippy' from 'x:\\\\Python\\\\TripPy\\\\TripPy\\\\trippy.py'>"
      ]
     },
     "execution_count": 28,
     "metadata": {},
     "output_type": "execute_result"
    }
   ],
   "source": [
    "import importlib\n",
    "importlib.reload(tpy)"
   ]
  },
  {
   "cell_type": "code",
   "execution_count": 5,
   "metadata": {},
   "outputs": [],
   "source": [
    "trips = tpy.convert_senozon_to_trippy(pd.read_csv(\"X:/MATSim/Szenarien/20230913_Spandau_ohne_Bus/Output/tripTable.txt.gz\", sep=\"\\t\"))#, nrows=10000))\n",
    "stages = tpy.convert_senozon_to_trippy(pd.read_csv(\"X:/MATSim/Szenarien/20230913_Spandau_ohne_Bus/Output/stageTable.txt.gz\", sep=\"\\t\"))#, nrows=10000), table_type=\"legTable\")\n",
    "# links = pd.read_csv(\"X:/MATSim/Szenarien/20230913_Spandau_ohne_Bus/Output/linkTable.txt.gz\", sep=\"\\t\", nrows=10000)"
   ]
  },
  {
   "cell_type": "code",
   "execution_count": 29,
   "metadata": {},
   "outputs": [
    {
     "name": "stdout",
     "output_type": "stream",
     "text": [
      "The provided `trips_df` contains the following columns that are not recognized and will not be used:\n",
      "['otherModes', 'containsDrt', 'hasAccessEgress', 'routedDistanceMainMode', 'travelTimeMainMode', 'fromArea', 'toArea', 'firstStageAfterAccessIsDrt', 'lastStageBeforEgressIsDrt']\n",
      "The provided `legs_df` contains the following columns that are not recognized and will not be used:\n",
      "['tripId', 'stageId', 'lineId', 'startTime', 'endTime', 'beelineDistance', 'waitingTime', 'fromArea', 'toArea', 'fromTripArea', 'toTripArea']\n"
     ]
    }
   ],
   "source": [
    "sc = tpy.Scenario(trips_df=trips, legs_df=stages)"
   ]
  },
  {
   "cell_type": "code",
   "execution_count": 30,
   "metadata": {},
   "outputs": [
    {
     "name": "stdout",
     "output_type": "stream",
     "text": [
      "389628\n",
      "1363031\n",
      "12368440210.0\n",
      "    time_index       n\n",
      "0          0.0     314\n",
      "1          1.0     166\n",
      "2          2.0     958\n",
      "3          3.0    4841\n",
      "4          4.0   13442\n",
      "5          5.0   29122\n",
      "6          6.0   50320\n",
      "7          7.0   76145\n",
      "8          8.0   71579\n",
      "9          9.0   70160\n",
      "10        10.0   66899\n",
      "11        11.0   70478\n",
      "12        12.0   77385\n",
      "13        13.0   84096\n",
      "14        14.0   94095\n",
      "15        15.0  101116\n",
      "16        16.0  100801\n",
      "17        17.0   93097\n",
      "18        18.0   81746\n",
      "19        19.0   69849\n",
      "20        20.0   58054\n",
      "21        21.0   44771\n",
      "22        22.0   35796\n",
      "23        23.0   26585\n",
      "24        24.0   18129\n",
      "25        25.0   11724\n",
      "26        26.0    6899\n",
      "27        27.0    4179\n",
      "28        28.0     108\n",
      "29        29.0      52\n",
      "30        30.0      62\n",
      "31        31.0      21\n",
      "32        32.0      19\n",
      "33        33.0      10\n",
      "34        34.0      10\n",
      "35        35.0       3\n",
      "   mode       n\n",
      "0  bike  117188\n",
      "1   car  506110\n",
      "2   drt   64196\n",
      "3    pt  235665\n",
      "4  ride  173453\n",
      "5  walk  266419\n",
      "     mode  time_index     n\n",
      "0    bike         1.0     6\n",
      "1    bike         2.0    93\n",
      "2    bike         3.0   423\n",
      "3    bike         4.0   920\n",
      "4    bike         5.0  1921\n",
      "..    ...         ...   ...\n",
      "192  walk        31.0    11\n",
      "193  walk        32.0    10\n",
      "194  walk        33.0     5\n",
      "195  walk        34.0     4\n",
      "196  walk        35.0     3\n",
      "\n",
      "[197 rows x 3 columns]\n"
     ]
    }
   ],
   "source": [
    "print(sc.get_n_persons())\n",
    "print(sc.get_n_trips())\n",
    "print(sc.get_person_km())\n",
    "print(sc.get_trips_day())\n",
    "print(sc.get_modal_split())\n",
    "print(sc.get_modal_split_day())"
   ]
  }
 ],
 "metadata": {
  "kernelspec": {
   "display_name": "Python 3",
   "language": "python",
   "name": "python3"
  },
  "language_info": {
   "codemirror_mode": {
    "name": "ipython",
    "version": 3
   },
   "file_extension": ".py",
   "mimetype": "text/x-python",
   "name": "python",
   "nbconvert_exporter": "python",
   "pygments_lexer": "ipython3",
   "version": "3.11.4"
  },
  "orig_nbformat": 4
 },
 "nbformat": 4,
 "nbformat_minor": 2
}
