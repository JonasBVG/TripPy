{
 "cells": [
  {
   "cell_type": "code",
   "execution_count": 1,
   "metadata": {},
   "outputs": [],
   "source": [
    "import trippy as tpy\n",
    "import pandas as pd\n",
    "import geopandas as gpd"
   ]
  },
  {
   "cell_type": "code",
   "execution_count": 29,
   "metadata": {},
   "outputs": [
    {
     "data": {
      "text/plain": [
       "<module 'trippy' from 'x:\\\\Python\\\\TripPy\\\\TripPy\\\\trippy.py'>"
      ]
     },
     "execution_count": 29,
     "metadata": {},
     "output_type": "execute_result"
    }
   ],
   "source": [
    "import importlib\n",
    "importlib.reload(tpy)"
   ]
  },
  {
   "cell_type": "code",
   "execution_count": 2,
   "metadata": {},
   "outputs": [],
   "source": [
    "trips = tpy.convert_senozon_to_trippy(pd.read_csv(\"X:/MATSim/Szenarien/20230913_Spandau_ohne_Bus/Output/tripTable.txt.gz\", sep=\"\\t\"))#, nrows=10000))\n",
    "# stages = tpy.convert_senozon_to_trippy(pd.read_csv(\"X:/MATSim/Szenarien/20230913_Spandau_ohne_Bus/Output/stageTable.txt.gz\", sep=\"\\t\"))#, nrows=10000), table_type=\"legTable\")\n",
    "# links = pd.read_csv(\"X:/MATSim/Szenarien/20230913_Spandau_ohne_Bus/Output/linkTable.txt.gz\", sep=\"\\t\", nrows=10000)"
   ]
  },
  {
   "cell_type": "code",
   "execution_count": 3,
   "metadata": {},
   "outputs": [
    {
     "name": "stdout",
     "output_type": "stream",
     "text": [
      "The provided `trips_df` contains the following columns that are not recognized and will not be used:\n",
      "['otherModes', 'containsDrt', 'hasAccessEgress', 'routedDistanceMainMode', 'travelTimeMainMode', 'fromArea', 'toArea', 'firstStageAfterAccessIsDrt', 'lastStageBeforEgressIsDrt']\n"
     ]
    }
   ],
   "source": [
    "sc = tpy.Scenario(trips_df=trips)"
   ]
  },
  {
   "cell_type": "code",
   "execution_count": 5,
   "metadata": {},
   "outputs": [],
   "source": [
    "# print(sc.get_n_persons())\n",
    "# print(sc.get_n_trips())\n",
    "# print(sc.get_person_km())\n",
    "# print(sc.get_trips_day())\n",
    "# print(sc.get_modal_split())\n",
    "# print(sc.get_modal_split_day())"
   ]
  },
  {
   "cell_type": "code",
   "execution_count": null,
   "metadata": {},
   "outputs": [],
   "source": [
    "viz = tpy.Visualizer(sc)\n",
    "\n",
    "fig = viz.plot_modal_split()\n",
    "\n",
    "fig.show()"
   ]
  },
  {
   "cell_type": "code",
   "execution_count": 36,
   "metadata": {},
   "outputs": [
    {
     "name": "stdout",
     "output_type": "stream",
     "text": [
      "Folder 'reports' does not exist. Creating folder.\n"
     ]
    }
   ],
   "source": [
    "import importlib\n",
    "importlib.reload(tpy)\n",
    "\n",
    "rep = tpy.Report(scenario=sc)\n",
    "\n",
    "rep.add_mode_analysis()\n",
    "rep.compile_html()"
   ]
  }
 ],
 "metadata": {
  "kernelspec": {
   "display_name": "Python 3",
   "language": "python",
   "name": "python3"
  },
  "language_info": {
   "codemirror_mode": {
    "name": "ipython",
    "version": 3
   },
   "file_extension": ".py",
   "mimetype": "text/x-python",
   "name": "python",
   "nbconvert_exporter": "python",
   "pygments_lexer": "ipython3",
   "version": "3.11.4"
  },
  "orig_nbformat": 4
 },
 "nbformat": 4,
 "nbformat_minor": 2
}
